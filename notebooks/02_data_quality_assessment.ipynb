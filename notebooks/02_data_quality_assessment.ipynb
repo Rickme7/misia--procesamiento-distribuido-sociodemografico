{
 "cells": [
  {
   "cell_type": "markdown",
   "metadata": {},
   "source": [
    "# Evaluación de Calidad de Datos\n",
    "\n",
    "**Proyecto TFM**: Sistema de procesamiento distribuido de datos censales\n",
    "**Universidad**: Universidad de Málaga\n",
    "**Autor**: Ramiro Ricardo Merchán Mora\n",
    "**Fecha**: 2025-09-09\n",
    "\n",
    "## Descripción\n",
    "\n",
    "Este notebook implementa el análisis correspondiente a la metodología de Machine Learning\n",
    "distribuido para el procesamiento de datos censales de Ecuador."
   ]
  },
  {
   "cell_type": "code",
   "execution_count": null,
   "metadata": {},
   "outputs": [],
   "source": [
    "# Configuración inicial\n",
    "import sys\n",
    "import os\n",
    "\n",
    "# Agregar directorio src al path\n",
    "sys.path.append('../src')\n",
    "\n",
    "# Imports principales\n",
    "import pandas as pd\n",
    "import numpy as np\n",
    "import matplotlib.pyplot as plt\n",
    "import seaborn as sns\n",
    "\n",
    "# Configuración de visualización\n",
    "plt.style.use('default')\n",
    "sns.set_palette('husl')\n",
    "\n",
    "print('Entorno configurado correctamente')"
   ]
  }
 ],
 "metadata": {
  "kernelspec": {
   "display_name": "Python 3",
   "language": "python",
   "name": "python3"
  },
  "language_info": {
   "codemirror_mode": {
    "name": "ipython",
    "version": 3
   },
   "file_extension": ".py",
   "mimetype": "text/x-python",
   "name": "python",
   "nbconvert_exporter": "python",
   "pygments_lexer": "ipython3",
   "version": "3.8.5"
  }
 },
 "nbformat": 4,
 "nbformat_minor": 4
}